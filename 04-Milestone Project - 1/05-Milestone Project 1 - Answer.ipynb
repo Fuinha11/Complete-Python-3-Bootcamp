{
 "cells": [
  {
   "cell_type": "markdown",
   "metadata": {},
   "source": [
    "# Milestone Project 1\n",
    "## This is my solution to the project.\n",
    "\n",
    "## Here are the rules: \n",
    "\n",
    "Create a Tic Tac Toe game. You are free to use any IDE you like.\n",
    "\n",
    "* 2 players should be able to play the game (both sitting at the same computer)\n",
    "* The board should be printed out every time a player makes a move\n",
    "* You should be able to accept input of the player position and then place a symbol on the board\n",
    "\n",
    "This version was created using the walkthrough steps as a guide. The end result has several changes from what was sugested."
   ]
  },
  {
   "cell_type": "code",
   "execution_count": 60,
   "metadata": {},
   "outputs": [],
   "source": [
    "# Step 1: Write a function that can print out a board. Set up your board as a list, where each index 1-9 corresponds with a number on a number pad, so you get a 3 by 3 board representation.\n",
    "\n",
    "from IPython.display import clear_output\n",
    "\n",
    "def display_board(board):\n",
    "    '''\n",
    "    This method expect a list (board) with lenght of 10 reperesenting the 9 positions on the board plus index 0 that is unused\n",
    "    '''\n",
    "    board_frame = '''\n",
    "     |     |\n",
    "   {7} |  {8}  | {9}\n",
    " ____|_____|____\n",
    "     |     | \n",
    "   {4} |  {5}  | {6}\n",
    " ____|_____|____\n",
    "     |     |\n",
    "   {1} |  {2}  | {3} \n",
    "     |     |     '''\n",
    "    print(board_frame.format(board[0],board[1],board[2],board[3],board[4],board[5],board[6],board[7],board[8],board[9]))\n"
   ]
  },
  {
   "cell_type": "code",
   "execution_count": 61,
   "metadata": {},
   "outputs": [],
   "source": [
    "# Step 2: Write a function that can take in a player input and assign their marker as 'X' or 'O'. Think about using *while* loops to continually ask until you get a correct answer.\n",
    "\n",
    "def player_input():\n",
    "    while True:\n",
    "        i = input(\"Player 1 what you wanna be, 'X' or 'O'?\").upper()\n",
    "        if i == \"X\":\n",
    "            return \"X\"\n",
    "        if i == \"O\":\n",
    "            return \"O\"\n",
    "        else:\n",
    "            print(\"That was a invalid token!\")\n"
   ]
  },
  {
   "cell_type": "code",
   "execution_count": 62,
   "metadata": {},
   "outputs": [],
   "source": [
    "# Step 3: Write a function that takes in the board list object, a marker ('X' or 'O'), and a desired position (number 1-9) and assigns it to the board.\n",
    "# I find this incredably unnecessary\n",
    "\n",
    "board = ['#','#','#','#','#','#','#','#','#','#']\n",
    "\n",
    "def place_marker(board, marker, position):\n",
    "    '''\n",
    "    This function will place the marker on the board according to the position passed, returning the board.\n",
    "    '''\n",
    "    board[position] = marker\n",
    "    return board"
   ]
  },
  {
   "cell_type": "code",
   "execution_count": 63,
   "metadata": {},
   "outputs": [],
   "source": [
    "# Step 4: Write a function that takes in a board and a mark (X or O) and then checks to see if that mark has won.\n",
    "\n",
    "def win_check(board, mark):\n",
    "    # check horizontal\n",
    "    if (board[7] == mark and board[8] == mark and board[9] == mark) or (board[4] == mark and board[5] == mark and board[6] == mark) or (board[1] == mark and board[2] == mark and board[3] == mark) :\n",
    "        return True\n",
    "    # check vertical\n",
    "    if (board[7] == mark and board[4] == mark and board[1] == mark) or (board[8] == mark and board[5] == mark and board[2] == mark) or (board[9] == mark and board[6] == mark and board[3] == mark) :\n",
    "        return True\n",
    "    # check diagonal\n",
    "    if (board[7] == mark and board[5] == mark and board[3] == mark) or (board[9] == mark and board[5] == mark and board[1] == mark) :\n",
    "        return True\n",
    "    return False"
   ]
  },
  {
   "cell_type": "code",
   "execution_count": 64,
   "metadata": {},
   "outputs": [],
   "source": [
    "# Step 5: Write a function that uses the random module to randomly decide which player goes first. You may want to lookup random.randint() Return a string of which player went first.\n",
    "\n",
    "import random\n",
    "\n",
    "def choose_first():\n",
    "    return \"X\" if random.randint(1,2) == 1 else \"O\""
   ]
  },
  {
   "cell_type": "code",
   "execution_count": 65,
   "metadata": {},
   "outputs": [],
   "source": [
    "# Step 6: Write a function that returns a boolean indicating whether a space on the board is freely available.\n",
    "\n",
    "def space_check(board, position):\n",
    "    return board[position] == \" \""
   ]
  },
  {
   "cell_type": "code",
   "execution_count": 66,
   "metadata": {},
   "outputs": [],
   "source": [
    "# Step 7: Write a function that checks if the board is full and returns a boolean value. True if full, False otherwise.\n",
    "\n",
    "def full_board_check(board):\n",
    "    return board.count(\" \") == 0"
   ]
  },
  {
   "cell_type": "code",
   "execution_count": 67,
   "metadata": {},
   "outputs": [],
   "source": [
    "\n",
    "# Step 8: Write a function that asks for a player's next position (as a number 1-9) and then uses the function from step 6 to check if it's a free position. If it is, then return the position for later use.\n",
    "\n",
    "def player_choice(board, token):\n",
    "    while True:\n",
    "        i = input(\"What is yout next play {}?\".format(token))\n",
    "        if(i.isnumeric() and 1 <= int(i) <= 9):\n",
    "            n = int(i)\n",
    "            if space_check(board, n) :\n",
    "                return n\n",
    "            else :\n",
    "                print(\"This position is already taken =/\")            \n",
    "        else:\n",
    "            print(\"That was a invalid position!\\nValid positions are between 1 and 9\")\n",
    "    "
   ]
  },
  {
   "cell_type": "code",
   "execution_count": 68,
   "metadata": {},
   "outputs": [],
   "source": [
    "# Step 9: Write a function that asks the player if they want to play again and returns a boolean True if they do want to play again.\n",
    "def replay():\n",
    "    while True :\n",
    "        i = input(\"Wanna play again, Y/N?\").upper()\n",
    "        return i == \"Y\""
   ]
  },
  {
   "cell_type": "code",
   "execution_count": 69,
   "metadata": {},
   "outputs": [],
   "source": [
    "# Step 10: Here comes the hard part! Use while loops and the functions you've made to run the game!\n",
    "\n",
    "def tic_tac() :\n",
    "    while True :\n",
    "        print('Welcome to Tic Tac Toe!')\n",
    "        players = {\"X\":\"\", \"Y\":\"\"}\n",
    "        board = [\"#\",\" \",\" \",\" \",\" \",\" \",\" \",\" \",\" \",\" \"]\n",
    "        \n",
    "        player1 = player_input()\n",
    "        player2 = \"O\" if player1 == \"X\" else \"X\" \n",
    "\n",
    "        current_player = choose_first()\n",
    "\n",
    "        print(\"{} will go first\".format(current_player))\n",
    "\n",
    "        while True :\n",
    "            position = player_choice(board, current_player)\n",
    "            place_marker(board, current_player, position)\n",
    "            display_board(board)\n",
    "            if win_check(board, current_player) :\n",
    "                print(\"Congrats {}, you won!\".format(current_player))\n",
    "                break\n",
    "            elif full_board_check(board) :\n",
    "                print(\"It's a tie =')\")\n",
    "                break\n",
    "            current_player = \"X\" if current_player == \"O\" else \"O\"\n",
    "\n",
    "        if replay():\n",
    "            print(\"-\"*20)\n",
    "            print(\"\\n\"*5)\n",
    "        else:\n",
    "            break\n",
    "            \n",
    "\n"
   ]
  },
  {
   "cell_type": "code",
   "execution_count": 70,
   "metadata": {},
   "outputs": [
    {
     "output_type": "stream",
     "name": "stdout",
     "text": "Welcome to Tic Tac Toe!\nO will go first\nThat was a invalid position!\nValid positions are between 1 and 9\n\n     |     |\n     |     |  \n ____|_____|____\n     |     | \n   O |     |  \n ____|_____|____\n     |     |\n     |     |   \n     |     |     \n\n     |     |\n     |     |  \n ____|_____|____\n     |     | \n   O |     | X\n ____|_____|____\n     |     |\n     |     |   \n     |     |     \n\n     |     |\n     |  O  |  \n ____|_____|____\n     |     | \n   O |     | X\n ____|_____|____\n     |     |\n     |     |   \n     |     |     \nThat was a invalid position!\nValid positions are between 1 and 9\nThis position is already taken =/\n\n     |     |\n     |  O  | X\n ____|_____|____\n     |     | \n   O |     | X\n ____|_____|____\n     |     |\n     |     |   \n     |     |     \nThat was a invalid position!\nValid positions are between 1 and 9\n\n     |     |\n     |  O  | X\n ____|_____|____\n     |     | \n   O |     | X\n ____|_____|____\n     |     |\n   O |     |   \n     |     |     \n\n     |     |\n     |  O  | X\n ____|_____|____\n     |     | \n   O |     | X\n ____|_____|____\n     |     |\n   O |     | X \n     |     |     \nCongrats X, you won!\n--------------------\n\n\n\n\n\n\nWelcome to Tic Tac Toe!\nThat was a invalid token!\nX will go first\nThat was a invalid position!\nValid positions are between 1 and 9\n\n     |     |\n     |     |  \n ____|_____|____\n     |     | \n     |     |  \n ____|_____|____\n     |     |\n   X |     |   \n     |     |     \nThat was a invalid position!\nValid positions are between 1 and 9\n\n     |     |\n     |     |  \n ____|_____|____\n     |     | \n     |     |  \n ____|_____|____\n     |     |\n   X |  O  |   \n     |     |     \n\n     |     |\n     |     |  \n ____|_____|____\n     |     | \n     |  X  |  \n ____|_____|____\n     |     |\n   X |  O  |   \n     |     |     \nThat was a invalid position!\nValid positions are between 1 and 9\n\n     |     |\n     |     |  \n ____|_____|____\n     |     | \n     |  X  |  \n ____|_____|____\n     |     |\n   X |  O  | O \n     |     |     \n\n     |     |\n     |     | X\n ____|_____|____\n     |     | \n     |  X  |  \n ____|_____|____\n     |     |\n   X |  O  | O \n     |     |     \nCongrats X, you won!\n"
    }
   ],
   "source": [
    "tic_tac()"
   ]
  },
  {
   "cell_type": "code",
   "execution_count": null,
   "metadata": {},
   "outputs": [],
   "source": []
  }
 ],
 "metadata": {
  "language_info": {
   "codemirror_mode": {
    "name": "ipython",
    "version": 3
   },
   "file_extension": ".py",
   "mimetype": "text/x-python",
   "name": "python",
   "nbconvert_exporter": "python",
   "pygments_lexer": "ipython3",
   "version": "3.8.3-final"
  },
  "orig_nbformat": 2,
  "kernelspec": {
   "name": "python38332bit78f0698627f548c1a61a008625896aec",
   "display_name": "Python 3.8.3 32-bit"
  }
 },
 "nbformat": 4,
 "nbformat_minor": 2
}